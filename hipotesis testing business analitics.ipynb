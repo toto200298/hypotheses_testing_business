{
 "cells": [
  {
   "cell_type": "markdown",
   "id": "2dc5f4c0",
   "metadata": {},
   "source": [
    "# Understanding Hypothesis Testing - Python example\n",
    "\n",
    "by Alfonso Cervantes Barragán  \n",
    "Mathematician & Data Scientist,    \n",
    "Candidate to phD of natural Science\n",
    "\n"
   ]
  },
  {
   "cell_type": "markdown",
   "id": "346706b5",
   "metadata": {},
   "source": [
    "### Introduction\n",
    "Hypothesis testing is a cornerstone of statistical analysis, enabling researchers, analysts, and decision-makers to draw meaningful conclusions from sample data. This powerful technique is widely used across diverse fields, from medicine and psychology to business and public policy. However, the technical jargon and mathematical complexity often make hypothesis testing seem daunting, especially for those without a strong statistical background.\n",
    "\n",
    "This article aims to demystify the concept of hypothesis testing, breaking down the key principles and steps in a clear and accessible manner. By the end, you'll have a solid understanding of how hypothesis testing works, its practical applications, and the steps involved in conducting a hypothesis test. Whether you're a student, a professional, or simply someone with a curious mind, this guide will equip you with the knowledge and confidence to navigate the world of data-driven insights and make more informed decisions based on rigorous statistical analysis.\n"
   ]
  },
  {
   "cell_type": "markdown",
   "id": "a1b1fc25",
   "metadata": {},
   "source": [
    "### What is a Hypothesis?\n",
    "A hypothesis is a statement that can be tested. It’s an assumption or claim about a population parameter (like a mean or proportion). \n",
    "\n"
   ]
  },
  {
   "cell_type": "markdown",
   "id": "cda21ae9",
   "metadata": {},
   "source": [
    "### Business Analytics Example\n",
    "In business analytics, hypothesis testing can help answer questions such as:\n",
    "\n",
    "**Marketing Campaigns**: Companies can use hypothesis testing to determine if a new marketing campaign had a significant effect on sales. The null hypothesis would be that the campaign had no impact, while the alternative is that it increased sales. By collecting sales data before and after the campaign and performing a statistical test like a t-test, the company can assess whether the difference in mean sales is statistically significant, allowing them to conclude if the campaign had a meaningful positive impact.\n",
    "\n",
    "**Customer Satisfaction**: When launching a new product, businesses can use hypothesis testing to understand if the average customer satisfaction rating is different from their previous offerings. The null hypothesis would be that the mean satisfaction is the same as past products, while the alternative is that it is higher or lower. The company can survey customers, calculate the mean satisfaction score, and then use a one-sample t-test to compare this to the historical average, enabling them to determine if the new product has a significantly different customer satisfaction rating.\n",
    "\n",
    "**Operational Efficiency**: Hypothesis testing can also help companies evaluate the impact of process improvements on operational efficiency. If a manufacturing company implements a new production process aimed at increasing efficiency, they can test the null hypothesis that the mean production time per unit is unchanged against the alternative that the mean time has decreased. By collecting production time data before and after the change and performing a two-sample t-test, the company can assess whether the difference in mean times is statistically significant, allowing them to conclude if the new process improved operational efficiency.\n",
    "\n"
   ]
  },
  {
   "cell_type": "markdown",
   "id": "4f6a7420",
   "metadata": {},
   "source": [
    "### Types of hypotheses \n",
    "\n",
    "There are two types of hypotheses in hypothesis testing:\n",
    "1. **Null Hypothesis (H0)**: This is the default assumption that there is no effect or no difference. It represents the status quo .\n",
    "2. **Alternative Hypothesis (H1 or Ha)**: This is what you want to prove. It suggests that there is an effect or a difference .\n"
   ]
  },
  {
   "cell_type": "markdown",
   "id": "9f8ce47b",
   "metadata": {},
   "source": [
    "### Example to Illustrate\n",
    "Imagine you run a coffee shop and claim that your average customer satisfaction rating is 4.5 out of 5. A competitor doubts this and wants to test your claim.\n",
    "\n",
    "- **Null Hypothesis (H0)**: The average customer satisfaction rating is 4.5.\n",
    "- **Alternative Hypothesis (H1)**: The average customer satisfaction rating is not 4.5.\n",
    "\n",
    "#### Steps in Hypothesis Testing\n",
    "1. **State the Hypotheses**: Clearly define your null and alternative hypotheses .\n",
    "\n",
    "2. **Collect Data**: Gather a sample of data relevant to your hypothesis. For our example, you could collect satisfaction ratings from a sample of customers .\n",
    "\n",
    "3. **Choose a Significance Level (α)**: This is the probability of rejecting the null hypothesis when it is actually true. Common values are 0.05 (5%) or 0.01 (1%).\n",
    "\n",
    "4. **Calculate a Test Statistic**: This is a standardized value derived from your sample data, which is used to determine whether to reject the null hypothesis. Examples include the t-statistic, z-statistic, or chi-square statistic.\n",
    "\n",
    "5. **Determine the P-Value**: The p-value indicates the probability of obtaining test results at least as extreme as the results actually observed, under the assumption that the null hypothesis is correct .\n",
    "\n",
    "6. **Make a Decision**:\n",
    "   - If the p-value is less than or equal to the significance level (α), reject the null hypothesis (Rumsey, 2003).\n",
    "   - If the p-value is greater than α, do not reject the null hypothesis .\n",
    "\n"
   ]
  },
  {
   "cell_type": "markdown",
   "id": "b9e78bd4",
   "metadata": {},
   "source": [
    "### Example: Customer Satisfaction\n",
    "\n",
    "Let's say you own a coffee shop and you believe your average customer satisfaction rating is 4.5 out of 5. You decide to test this hypothesis by surveying 30 customers and collecting their satisfaction ratings.\n",
    "\n",
    "1. **State the Hypotheses**:\n",
    "   - Null Hypothesis (H0): The average customer satisfaction rating is 4.5.\n",
    "   - Alternative Hypothesis (H1): The average customer satisfaction rating is not 4.5.   \n",
    "\n",
    "2. **Collect Data**: After surveying 30 customers, you obtain the following ratings (out of 5): 4.6, 4.7, 4.5, 4.8, 4.2, 4.5, 4.7, 4.9, 4.3, 4.4, 4.6, 4.7, 4.8, 4.9, 4.2, 4.5, 4.3, 4.1, 4.6, 4.7, 4.8, 4.9, 4.2, 4.4, 4.5, 4.6, 4.7, 4.3, 4.2, 4.5.   \n",
    "\n",
    "\n",
    "3. **Choose a Significance Level (α)**: You choose a significance level of 0.05 (5%).   \n",
    "\n",
    "\n",
    "4. **Calculate a Test Statistic**: Using statistical software or formulas, you calculate the test statistic. In this case, let's use a one-sample t-test to determine if the mean rating is different from 4.5.   \n",
    "\n",
    "\n",
    "### Understanding the T-Statistic\n",
    "The t-statistic is a ratio that compares the difference between the sample mean and the hypothesized population mean relative to the variability of the sample data. It helps determine how far your sample mean is from the hypothesized mean, in units of standard error. A larger absolute value of the t-statistic indicates a larger difference between the sample mean and the hypothesized mean.\n",
    "\n",
    "The formula for the t-statistic in a one-sample t-test is:\n",
    "\n",
    "$$ t = \\frac{\\bar{x} - \\mu}{s / \\sqrt{n}} $$\n",
    "\n",
    "where:\n",
    "- $\\bar{x}$ is the sample mean.\n",
    "- $\\mu$ is the hypothesized population mean (4.5 in this example).\n",
    "- $s$ is the sample standard deviation.\n",
    "- $n$ is the sample size.\n",
    "\n",
    "#### Step-by-Step Calculation\n",
    "1. **Calculate the sample mean $\\bar{x}$**:\n",
    "   $$\n",
    "   \\bar{x} = \\frac{\\sum{x_i}}{n}\n",
    "   $$\n",
    "   For the given ratings: \n",
    "   $$\n",
    "   \\bar{x} = \\frac{4.6 + 4.7 + 4.5 + \\cdots + 4.5}{30} = 4.53\n",
    "   $$\n",
    "\n",
    "2. **Calculate the sample standard deviation $s$**:\n",
    "   $$\n",
    "   s = \\sqrt{\\frac{\\sum{(x_i - \\bar{x})^2}}{n-1}}\n",
    "   $$\n",
    "   For the given ratings, let's assume:\n",
    "   $$ \n",
    "   s \\approx 0.25\n",
    "   $$\n",
    "\n",
    "3. **Calculate the t-statistic**:\n",
    "   $$\n",
    "   t = \\frac{4.53 - 4.5}{0.25 / \\sqrt{30}} = 0.66\n",
    "   $$\n",
    "\n",
    "4. **Interpretation**:\n",
    "\n",
    "The t-statistic value indicates how far the sample mean is from the hypothesized population mean in units of the standard error. In this example, a t-statistic of 0.66 means that the sample mean is 0.66 standard errors above the hypothesized mean of 4.5. \n",
    "\n",
    "A t-statistic closer to 0 suggests that the sample mean is close to the hypothesized mean, while a larger absolute value indicates a greater difference. Whether this difference is statistically significant depends on the corresponding p-value.\n"
   ]
  },
  {
   "cell_type": "markdown",
   "id": "a8e0267b",
   "metadata": {},
   "source": [
    "### Python Example\n",
    "Here's a simple example in Python to illustrate hypothesis testing. We'll use a one-sample t-test to test if the average customer satisfaction rating is different from 4.5.Imagine you are a teacher and you believe that your class's average score on a math test is 75. To test this, you randomly select 10 students and find their average score to be 78 with a standard deviation of 4. You then use a t-test to see if the average score of these 10 students is significantly different from 75.\n"
   ]
  },
  {
   "cell_type": "markdown",
   "id": "a698236d",
   "metadata": {},
   "source": [
    "1. **Import Libraries**: \n",
    "\n",
    "NumPy is a fundamental library for scientific computing in Python, providing support for large, multi-dimensional arrays and matrices, along with a vast collection of high-level mathematical functions to operate on these arrays efficiently, enabling vectorized operations and integration with other libraries for data manipulation and analysis.\n",
    "\n",
    "\n",
    "SciPy is a library that builds on NumPy, providing user-friendly and efficient numerical routines for scientific and technical computing in Python, including functions for numerical integration, interpolation, optimization, linear algebra, and statistics, particularly the stats module which contains a large number of probability distribution functions and statistical functions for calculating measures like mean, median, standard deviation, and performing various statistical tests and analyses."
   ]
  },
  {
   "cell_type": "code",
   "execution_count": 18,
   "id": "6243a7aa",
   "metadata": {},
   "outputs": [],
   "source": [
    "import numpy as np\n",
    "from scipy import stats"
   ]
  },
  {
   "cell_type": "markdown",
   "id": "0a9ea459",
   "metadata": {},
   "source": [
    "2. **Sample Data**:\n",
    "  "
   ]
  },
  {
   "cell_type": "markdown",
   "id": "0c589aa7",
   "metadata": {},
   "source": [
    "This list contains the customer satisfaction ratings collected from 30 customers."
   ]
  },
  {
   "cell_type": "code",
   "execution_count": 19,
   "id": "4209f361",
   "metadata": {},
   "outputs": [],
   "source": [
    "ratings = [4.6, 4.7, 4.5, 4.8, 4.2, 4.5, 4.7, 4.9, 4.3, 4.4, \n",
    "              4.6, 4.7, 4.8, 4.9, 4.2, 4.5, 4.3, 4.1, 4.6, 4.7, \n",
    "              4.8, 4.9, 4.2, 4.4, 4.5, 4.6, 4.7, 4.3, 4.2, 4.5]"
   ]
  },
  {
   "cell_type": "markdown",
   "id": "6724f969",
   "metadata": {},
   "source": [
    "3. **Hypotheses**:\n",
    "   - Null hypothesis: The mean rating is 4.5.\n",
    "   - Alternative hypothesis: The mean rating is not 4.5.\n"
   ]
  },
  {
   "cell_type": "markdown",
   "id": "62035859",
   "metadata": {},
   "source": [
    "4. **Calculate Sample Mean and Standard Deviation**:\n"
   ]
  },
  {
   "cell_type": "code",
   "execution_count": 20,
   "id": "6fa68b6d",
   "metadata": {},
   "outputs": [],
   "source": [
    "mean_rating = np.mean(ratings)\n",
    "std_dev = np.std(ratings, ddof=1)  # Use ddof=1 for sample standard deviation"
   ]
  },
  {
   "cell_type": "markdown",
   "id": "7c8a90e9",
   "metadata": {},
   "source": [
    "5. **Perform the t-test**:\n",
    "\n",
    "The `stats.ttest_1samp` function from the SciPy `stats` module is used to perform a one-sample t-test\n",
    "\n",
    "The formula for the one-sample t-test is:\n",
    "\n",
    "$$t = \\frac{\\bar{x} - \\mu_0}{\\frac{s}{\\sqrt{n}}}$$\n",
    "\n",
    "Where:\n",
    "- $\\bar{x}$ is the sample mean\n",
    "- $\\mu_0$ is the hypothesized population mean\n",
    "- $s$ is the sample standard deviation\n",
    "- $n$ is the sample size\n",
    "\n",
    "The t-statistic calculated by this formula follows a t-distribution with $n-1$ degrees of freedom.\n",
    "\n",
    "The `stats.ttest_1samp` function takes the following arguments:\n",
    "\n",
    "- `a`: the sample data, as a 1D array-like\n",
    "- `popmean`: the hypothesized population mean\n",
    "- `axis`: the axis along which to compute the test (default is 0, meaning the test is performed on the entire sample)\n",
    "- `nan_policy`: how to handle NaN values in the input (default is 'propagate', which keeps NaN values)\n",
    "\n",
    "The function returns two values:\n",
    "\n",
    "1. The t-statistic\n",
    "2. The two-tailed p-value\n",
    "\n"
   ]
  },
  {
   "cell_type": "code",
   "execution_count": 28,
   "id": "b284c4d7",
   "metadata": {},
   "outputs": [],
   "source": [
    "t_statistic, p_value = stats.ttest_1samp(ratings, 4.5)"
   ]
  },
  {
   "cell_type": "markdown",
   "id": "6c5dac9e",
   "metadata": {},
   "source": [
    "6. **Significance Level**:\n",
    "  \n"
   ]
  },
  {
   "cell_type": "code",
   "execution_count": 29,
   "id": "8dc642a2",
   "metadata": {},
   "outputs": [],
   "source": [
    "alpha = 0.05"
   ]
  },
  {
   "cell_type": "markdown",
   "id": "90fa96cc",
   "metadata": {},
   "source": [
    " We set the significance level (α) to 0.05."
   ]
  },
  {
   "cell_type": "markdown",
   "id": "1e4d1e19",
   "metadata": {},
   "source": [
    "7. **Print the Results**:\n",
    " \n"
   ]
  },
  {
   "cell_type": "code",
   "execution_count": 30,
   "id": "c06778f1",
   "metadata": {},
   "outputs": [
    {
     "name": "stdout",
     "output_type": "stream",
     "text": [
      "Sample Mean: 4.536666666666666\n",
      "Standard Deviation: 0.23559657706859155\n",
      "T-statistic: 0.8524385494789603\n",
      "P-value: 0.4009561791598829\n"
     ]
    }
   ],
   "source": [
    "print(\"Sample Mean:\", mean_rating)\n",
    "print(\"Standard Deviation:\", std_dev)\n",
    "print(\"T-statistic:\", t_statistic)\n",
    "print(\"P-value:\", p_value)"
   ]
  },
  {
   "cell_type": "markdown",
   "id": "cc5c2a74",
   "metadata": {},
   "source": [
    "**Observations** \n",
    "\n",
    "The sample mean of 4.53 is not statistically different from the hypothesized mean, as indicated by the t-statistic of 0.85 and the corresponding p-value of 0.40, which is greater than the typical significance level of 0.05. this suggests that the difference between the sample mean and the hypothesized mean is likely due to chance, given the standard deviation of 0.23 and the sample size. This means there is not enough statistical evidence to conclude that the sample mean is significantly different from the hypothesized mean. The relatively high p-value indicates that the observed difference between the sample mean and the hypothesized mean could have reasonably occurred by chance, given the standard deviation and sample size. There is not strong enough evidence to rule out the possibility that the sample mean and hypothesized mean are actually the same.\n"
   ]
  },
  {
   "cell_type": "markdown",
   "id": "7e731781",
   "metadata": {},
   "source": [
    "8. **Conclusion**:\n",
    "  "
   ]
  },
  {
   "cell_type": "markdown",
   "id": "16dcf044",
   "metadata": {},
   "source": [
    "If the p-value is less than 0.05, we reject the null hypothesis, indicating that the average rating is different from 4.5. Otherwise, we do not reject the null hypothesis."
   ]
  },
  {
   "cell_type": "code",
   "execution_count": 32,
   "id": "b56c130b",
   "metadata": {},
   "outputs": [
    {
     "name": "stdout",
     "output_type": "stream",
     "text": [
      "Fail to reject the null hypothesis: There is not enough evidence to say the average rating is different from 4.5.\n"
     ]
    }
   ],
   "source": [
    "if p_value < alpha:\n",
    "       print(\"Reject the null hypothesis: The average rating is different from 4.5.\")\n",
    "else:\n",
    "       print(\"Fail to reject the null hypothesis: There is not enough evidence to say the average rating is different from 4.5.\")"
   ]
  },
  {
   "cell_type": "markdown",
   "id": "6d80cb07",
   "metadata": {},
   "source": [
    "### Glossary\n",
    "- **Null Hypothesis (H0)**: The default assumption that there is no effect or difference.\n",
    "- **Alternative Hypothesis (H1)**: The hypothesis that there is an effect or difference.\n",
    "- **Significance Level (α)**: The threshold for rejecting the null hypothesis.\n",
    "- **P-Value**: The probability of obtaining results at least as extreme as the observed results, assuming the null hypothesis is true.\n",
    "- **Test Statistic**: A standardized value used in hypothesis testing to determine whether to reject the null hypothesis.\n",
    "- **T-Statistic**: A ratio that compares the difference between the sample mean and the hypothesized population mean relative to the variability of the sample data.\n"
   ]
  },
  {
   "cell_type": "markdown",
   "id": "4ae1a933",
   "metadata": {},
   "source": [
    "### References\n",
    "\n",
    "The following references provide additional details and examples on hypothesis testing in business analytics:\n",
    "\n",
    "- Devore, J. L. (2011). Probability and Statistics for Engineering and the Sciences . Boston, MA: Cengage Learning (pp. 508-510). ISBN 978-0-538-73352-6. \n",
    "\n",
    "\n",
    "Additionally, the following online resources provide practical guidance and case studies on using hypothesis testing in business analytics:\n",
    "\n",
    "[1] https://u-next.com/blogs/business-analytics/hypothesis-testing-in-business-analytics-a-beginners-guide/  \n",
    "[2] https://www.youtube.com/watch?v=7xM6RQ2RRV8  \n",
    "[3] https://bookdown.org/cuborican/RE_STAT/hypothesis-testing.html  \n",
    "[4] https://online.hbs.edu/blog/post/hypothesis-testing  \n",
    "[5] https://openstax.org/books/introductory-business-statistics-2e/pages/9-4-full-hypothesis-test-examples  \n",
    "\n"
   ]
  },
  {
   "cell_type": "code",
   "execution_count": null,
   "id": "9aafa5c2",
   "metadata": {},
   "outputs": [],
   "source": []
  }
 ],
 "metadata": {
  "kernelspec": {
   "display_name": "Python 3 (ipykernel)",
   "language": "python",
   "name": "python3"
  },
  "language_info": {
   "codemirror_mode": {
    "name": "ipython",
    "version": 3
   },
   "file_extension": ".py",
   "mimetype": "text/x-python",
   "name": "python",
   "nbconvert_exporter": "python",
   "pygments_lexer": "ipython3",
   "version": "3.11.5"
  }
 },
 "nbformat": 4,
 "nbformat_minor": 5
}
